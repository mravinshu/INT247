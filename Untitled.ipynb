{
 "cells": [
  {
   "cell_type": "code",
   "execution_count": 13,
   "id": "7dcc4410",
   "metadata": {},
   "outputs": [],
   "source": [
    "from keras.models import load_model\n",
    "from PIL import ImageGrab, Image\n",
    "import numpy as np\n",
    "import tensorflow as tf\n",
    "import cv2\n",
    "import matplotlib as plt"
   ]
  },
  {
   "cell_type": "code",
   "execution_count": 14,
   "id": "e2f81e73",
   "metadata": {},
   "outputs": [],
   "source": [
    "img = cv2.imread('try.png')"
   ]
  },
  {
   "cell_type": "code",
   "execution_count": 15,
   "id": "fcba61a6",
   "metadata": {},
   "outputs": [
    {
     "data": {
      "text/plain": [
       "(164, 176, 3)"
      ]
     },
     "execution_count": 15,
     "metadata": {},
     "output_type": "execute_result"
    }
   ],
   "source": [
    "img.shape"
   ]
  },
  {
   "cell_type": "code",
   "execution_count": 16,
   "id": "a366c5a0",
   "metadata": {},
   "outputs": [],
   "source": [
    "changedImg = cv2.cvtColor(img, cv2.COLOR_BGR2GRAY)"
   ]
  },
  {
   "cell_type": "code",
   "execution_count": 17,
   "id": "1ecf93cd",
   "metadata": {},
   "outputs": [
    {
     "data": {
      "text/plain": [
       "(164, 176)"
      ]
     },
     "execution_count": 17,
     "metadata": {},
     "output_type": "execute_result"
    }
   ],
   "source": [
    "changedImg.shape"
   ]
  },
  {
   "cell_type": "code",
   "execution_count": 18,
   "id": "2ba5fe57",
   "metadata": {},
   "outputs": [],
   "source": [
    "changedImg = cv2.resize(changedImg,(28,28),interpolation = cv2.INTER_AREA)"
   ]
  },
  {
   "cell_type": "code",
   "execution_count": 19,
   "id": "aa945eb6",
   "metadata": {},
   "outputs": [
    {
     "data": {
      "text/plain": [
       "(28, 28)"
      ]
     },
     "execution_count": 19,
     "metadata": {},
     "output_type": "execute_result"
    }
   ],
   "source": [
    "changedImg.shape"
   ]
  },
  {
   "cell_type": "code",
   "execution_count": 20,
   "id": "f5d5f33c",
   "metadata": {},
   "outputs": [],
   "source": [
    "changedImg = tf.keras.utils.normalize (changedImg,axis = 1)"
   ]
  },
  {
   "cell_type": "code",
   "execution_count": 21,
   "id": "4c3f86fc",
   "metadata": {},
   "outputs": [],
   "source": [
    "changedImg = np.array (changedImg).reshape (-1,28,28,1)"
   ]
  },
  {
   "cell_type": "code",
   "execution_count": 22,
   "id": "5ed88287",
   "metadata": {},
   "outputs": [
    {
     "data": {
      "text/plain": [
       "(1, 28, 28, 1)"
      ]
     },
     "execution_count": 22,
     "metadata": {},
     "output_type": "execute_result"
    }
   ],
   "source": [
    "changedImg.shape"
   ]
  },
  {
   "cell_type": "code",
   "execution_count": 31,
   "id": "19f8a4d2",
   "metadata": {},
   "outputs": [
    {
     "name": "stdout",
     "output_type": "stream",
     "text": [
      "WARNING:tensorflow:6 out of the last 6 calls to <function Model.make_predict_function.<locals>.predict_function at 0x00000188E39F2DD0> triggered tf.function retracing. Tracing is expensive and the excessive number of tracings could be due to (1) creating @tf.function repeatedly in a loop, (2) passing tensors with different shapes, (3) passing Python objects instead of tensors. For (1), please define your @tf.function outside of the loop. For (2), @tf.function has experimental_relax_shapes=True option that relaxes argument shapes that can avoid unnecessary retracing. For (3), please refer to https://www.tensorflow.org/guide/function#controlling_retracing and https://www.tensorflow.org/api_docs/python/tf/function for  more details.\n"
     ]
    }
   ],
   "source": [
    "model = load_model('mnist.h5')\n",
    "predictions = model.predict (changedImg)"
   ]
  },
  {
   "cell_type": "code",
   "execution_count": 32,
   "id": "dac5b200",
   "metadata": {},
   "outputs": [
    {
     "name": "stdout",
     "output_type": "stream",
     "text": [
      "4\n"
     ]
    }
   ],
   "source": [
    "print(np.argmax(predictions))"
   ]
  },
  {
   "cell_type": "code",
   "execution_count": null,
   "id": "e2717169",
   "metadata": {},
   "outputs": [],
   "source": []
  }
 ],
 "metadata": {
  "kernelspec": {
   "display_name": "Python 3 (ipykernel)",
   "language": "python",
   "name": "python3"
  },
  "language_info": {
   "codemirror_mode": {
    "name": "ipython",
    "version": 3
   },
   "file_extension": ".py",
   "mimetype": "text/x-python",
   "name": "python",
   "nbconvert_exporter": "python",
   "pygments_lexer": "ipython3",
   "version": "3.10.2"
  }
 },
 "nbformat": 4,
 "nbformat_minor": 5
}
